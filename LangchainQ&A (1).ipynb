{
  "nbformat": 4,
  "nbformat_minor": 0,
  "metadata": {
    "colab": {
      "provenance": []
    },
    "kernelspec": {
      "name": "python3",
      "display_name": "Python 3"
    },
    "language_info": {
      "name": "python"
    }
  },
  "cells": [
    {
      "cell_type": "code",
      "execution_count": 2,
      "metadata": {
        "colab": {
          "base_uri": "https://localhost:8080/"
        },
        "id": "XuM9Sw6O_ogd",
        "outputId": "c3a4f5b1-af29-4edb-e2ad-77bbaa22d72f"
      },
      "outputs": [
        {
          "output_type": "stream",
          "name": "stdout",
          "text": [
            "\u001b[2K     \u001b[90m━━━━━━━━━━━━━━━━━━━━━━━━━━━━━━━━━━━━━━━━\u001b[0m \u001b[32m798.0/798.0 kB\u001b[0m \u001b[31m8.2 MB/s\u001b[0m eta \u001b[36m0:00:00\u001b[0m\n",
            "\u001b[2K     \u001b[90m━━━━━━━━━━━━━━━━━━━━━━━━━━━━━━━━━━━━━━━━\u001b[0m \u001b[32m1.5/1.5 MB\u001b[0m \u001b[31m16.3 MB/s\u001b[0m eta \u001b[36m0:00:00\u001b[0m\n",
            "\u001b[2K     \u001b[90m━━━━━━━━━━━━━━━━━━━━━━━━━━━━━━━━━━━━━━━━\u001b[0m \u001b[32m214.3/214.3 kB\u001b[0m \u001b[31m18.5 MB/s\u001b[0m eta \u001b[36m0:00:00\u001b[0m\n",
            "\u001b[2K     \u001b[90m━━━━━━━━━━━━━━━━━━━━━━━━━━━━━━━━━━━━━━━━\u001b[0m \u001b[32m48.2/48.2 kB\u001b[0m \u001b[31m5.6 MB/s\u001b[0m eta \u001b[36m0:00:00\u001b[0m\n",
            "\u001b[2K     \u001b[90m━━━━━━━━━━━━━━━━━━━━━━━━━━━━━━━━━━━━━━━━\u001b[0m \u001b[32m49.4/49.4 kB\u001b[0m \u001b[31m5.5 MB/s\u001b[0m eta \u001b[36m0:00:00\u001b[0m\n",
            "\u001b[2K     \u001b[90m━━━━━━━━━━━━━━━━━━━━━━━━━━━━━━━━━━━━━━━━\u001b[0m \u001b[32m225.4/225.4 kB\u001b[0m \u001b[31m4.1 MB/s\u001b[0m eta \u001b[36m0:00:00\u001b[0m\n",
            "\u001b[2K     \u001b[90m━━━━━━━━━━━━━━━━━━━━━━━━━━━━━━━━━━━━━━━━\u001b[0m \u001b[32m75.9/75.9 kB\u001b[0m \u001b[31m7.1 MB/s\u001b[0m eta \u001b[36m0:00:00\u001b[0m\n",
            "\u001b[2K     \u001b[90m━━━━━━━━━━━━━━━━━━━━━━━━━━━━━━━━━━━━━━━━\u001b[0m \u001b[32m76.9/76.9 kB\u001b[0m \u001b[31m7.6 MB/s\u001b[0m eta \u001b[36m0:00:00\u001b[0m\n",
            "\u001b[2K     \u001b[90m━━━━━━━━━━━━━━━━━━━━━━━━━━━━━━━━━━━━━━━━\u001b[0m \u001b[32m58.3/58.3 kB\u001b[0m \u001b[31m1.8 MB/s\u001b[0m eta \u001b[36m0:00:00\u001b[0m\n",
            "\u001b[?25h\u001b[31mERROR: pip's dependency resolver does not currently take into account all the packages that are installed. This behaviour is the source of the following dependency conflicts.\n",
            "llmx 0.0.15a0 requires cohere, which is not installed.\n",
            "llmx 0.0.15a0 requires tiktoken, which is not installed.\n",
            "tensorflow-probability 0.22.0 requires typing-extensions<4.6.0, but you have typing-extensions 4.9.0 which is incompatible.\u001b[0m\u001b[31m\n",
            "\u001b[2K     \u001b[90m━━━━━━━━━━━━━━━━━━━━━━━━━━━━━━━━━━━━━━━━\u001b[0m \u001b[32m2.0/2.0 MB\u001b[0m \u001b[31m19.5 MB/s\u001b[0m eta \u001b[36m0:00:00\u001b[0m\n",
            "\u001b[?25h\u001b[31mERROR: pip's dependency resolver does not currently take into account all the packages that are installed. This behaviour is the source of the following dependency conflicts.\n",
            "llmx 0.0.15a0 requires cohere, which is not installed.\u001b[0m\u001b[31m\n",
            "\u001b[2K     \u001b[90m━━━━━━━━━━━━━━━━━━━━━━━━━━━━━━━━━━━━━━━━\u001b[0m \u001b[32m507.1/507.1 kB\u001b[0m \u001b[31m5.5 MB/s\u001b[0m eta \u001b[36m0:00:00\u001b[0m\n",
            "\u001b[2K     \u001b[90m━━━━━━━━━━━━━━━━━━━━━━━━━━━━━━━━━━━━━━━━\u001b[0m \u001b[32m40.1/40.1 kB\u001b[0m \u001b[31m4.1 MB/s\u001b[0m eta \u001b[36m0:00:00\u001b[0m\n",
            "\u001b[2K     \u001b[90m━━━━━━━━━━━━━━━━━━━━━━━━━━━━━━━━━━━━━━━━\u001b[0m \u001b[32m115.3/115.3 kB\u001b[0m \u001b[31m5.8 MB/s\u001b[0m eta \u001b[36m0:00:00\u001b[0m\n",
            "\u001b[2K     \u001b[90m━━━━━━━━━━━━━━━━━━━━━━━━━━━━━━━━━━━━━━━━\u001b[0m \u001b[32m134.8/134.8 kB\u001b[0m \u001b[31m6.7 MB/s\u001b[0m eta \u001b[36m0:00:00\u001b[0m\n",
            "\u001b[2K     \u001b[90m━━━━━━━━━━━━━━━━━━━━━━━━━━━━━━━━━━━━━━━━\u001b[0m \u001b[32m18.8/18.8 MB\u001b[0m \u001b[31m41.9 MB/s\u001b[0m eta \u001b[36m0:00:00\u001b[0m\n",
            "\u001b[2K     \u001b[90m━━━━━━━━━━━━━━━━━━━━━━━━━━━━━━━━━━━━━━━━\u001b[0m \u001b[32m232.6/232.6 kB\u001b[0m \u001b[31m5.2 MB/s\u001b[0m eta \u001b[36m0:00:00\u001b[0m\n",
            "\u001b[?25h"
          ]
        }
      ],
      "source": [
        "# importation des librairies\n",
        "! pip install -q langchain\n",
        "! pip install -q openai\n",
        "! pip install -q tiktoken\n",
        "! pip install -q datasets cassio\n",
        "! pip install -q PyPDF2"
      ]
    },
    {
      "cell_type": "markdown",
      "source": [
        "https://docs.datastax.com/en/astra-serverless/docs/vector-search/quickstart.html"
      ],
      "metadata": {
        "id": "1s7QHd2iDC1o"
      }
    },
    {
      "cell_type": "code",
      "source": [
        "from langchain.vectorstores.cassandra import Cassandra\n",
        "from langchain.indexes.vectorstore import VectorStoreIndexWrapper\n",
        "from langchain.llms import OpenAI\n",
        "#from langchain.chat_models import ChatOpenAI\n",
        "from langchain_community.chat_models import ChatOpenAI\n",
        "#from langchain.embeddings import OpenAIEmbeddings\n",
        "from langchain_community.embeddings import OpenAIEmbeddings\n",
        "from datasets import load_dataset\n",
        "import cassio\n",
        "import openai\n",
        "import os"
      ],
      "metadata": {
        "id": "5wEjyaQVC_rv"
      },
      "execution_count": 6,
      "outputs": []
    },
    {
      "cell_type": "code",
      "source": [
        "ASTRA_DB_APPLICATION_TOKEN = \"\" # enter the \"AstraCS:...\" string found in in your Token JSON file\n",
        "ASTRA_DB_ID = \"\" # enter your Database ID\n"
      ],
      "metadata": {
        "id": "fVexccqRICIj"
      },
      "execution_count": 7,
      "outputs": []
    },
    {
      "cell_type": "code",
      "source": [
        "os.environ[\"OPENAI_API_KEY\"] = \"sk----\"\n",
        "openai.api_key =os.getenv(\"OPENAI_API_KEY\")"
      ],
      "metadata": {
        "id": "9ZjtvhNiNfx5"
      },
      "execution_count": 8,
      "outputs": []
    },
    {
      "cell_type": "code",
      "source": [
        "from PyPDF2 import PdfReader"
      ],
      "metadata": {
        "id": "IPq9Pz4yK5Bm"
      },
      "execution_count": 9,
      "outputs": []
    },
    {
      "cell_type": "code",
      "source": [
        "pdfreader = PdfReader(\"/content/Guide des aides rénovation 2024.pdf\")"
      ],
      "metadata": {
        "id": "kcGMcXfNKmdr"
      },
      "execution_count": 11,
      "outputs": []
    },
    {
      "cell_type": "code",
      "source": [
        "# Read the pdf file\n",
        "raw_texte=''\n",
        "for i, page in enumerate(pdfreader.pages):\n",
        "  content= page.extract_text()\n",
        "  if content:\n",
        "    raw_texte+=content"
      ],
      "metadata": {
        "id": "0pfXFaa8JWa0"
      },
      "execution_count": 12,
      "outputs": []
    },
    {
      "cell_type": "code",
      "source": [
        "# intiatialisation de la connection à Cassandra\n",
        "cassio.init(token=ASTRA_DB_APPLICATION_TOKEN,database_id=ASTRA_DB_ID)"
      ],
      "metadata": {
        "colab": {
          "base_uri": "https://localhost:8080/"
        },
        "id": "llf90m1YMMY0",
        "outputId": "c72166e2-063f-4fbb-f3ea-c2577d91b322"
      },
      "execution_count": 17,
      "outputs": [
        {
          "output_type": "stream",
          "name": "stderr",
          "text": [
            "WARNING:cassandra.cluster:Downgrading core protocol version from 66 to 65 for 78b6059c-858f-43fd-822d-af5479dfdca8-us-east1.db.astra.datastax.com:29042:da4b7bf4-d0da-4d63-9400-9ed0a495c23b. To avoid this, it is best practice to explicitly set Cluster(protocol_version) to the version supported by your cluster. http://datastax.github.io/python-driver/api/cassandra/cluster.html#cassandra.cluster.Cluster.protocol_version\n",
            "WARNING:cassandra.cluster:Downgrading core protocol version from 65 to 5 for 78b6059c-858f-43fd-822d-af5479dfdca8-us-east1.db.astra.datastax.com:29042:da4b7bf4-d0da-4d63-9400-9ed0a495c23b. To avoid this, it is best practice to explicitly set Cluster(protocol_version) to the version supported by your cluster. http://datastax.github.io/python-driver/api/cassandra/cluster.html#cassandra.cluster.Cluster.protocol_version\n",
            "ERROR:cassandra.connection:Closing connection <AsyncoreConnection(139641519142320) 78b6059c-858f-43fd-822d-af5479dfdca8-us-east1.db.astra.datastax.com:29042:da4b7bf4-d0da-4d63-9400-9ed0a495c23b> due to protocol error: Error from server: code=000a [Protocol error] message=\"Beta version of the protocol used (5/v5-beta), but USE_BETA flag is unset\"\n",
            "WARNING:cassandra.cluster:Downgrading core protocol version from 5 to 4 for 78b6059c-858f-43fd-822d-af5479dfdca8-us-east1.db.astra.datastax.com:29042:da4b7bf4-d0da-4d63-9400-9ed0a495c23b. To avoid this, it is best practice to explicitly set Cluster(protocol_version) to the version supported by your cluster. http://datastax.github.io/python-driver/api/cassandra/cluster.html#cassandra.cluster.Cluster.protocol_version\n"
          ]
        }
      ]
    },
    {
      "cell_type": "code",
      "source": [
        "# initiation du modele et de l'embedding\n",
        "llm= ChatOpenAI(model=\"gpt-4\",temperature=0.2,max_tokens=200)\n",
        "embedding = OpenAIEmbeddings()"
      ],
      "metadata": {
        "id": "KAVlF8D7OGch",
        "colab": {
          "base_uri": "https://localhost:8080/"
        },
        "outputId": "81050f73-4425-4eb0-b610-920c939ae763"
      },
      "execution_count": 14,
      "outputs": [
        {
          "output_type": "stream",
          "name": "stderr",
          "text": [
            "/usr/local/lib/python3.10/dist-packages/langchain_core/_api/deprecation.py:189: LangChainDeprecationWarning: The class `ChatOpenAI` was deprecated in LangChain 0.1.0 and will be removed in 0.2.0. Use langchain_openai.ChatOpenAI instead.\n",
            "  warn_deprecated(\n",
            "/usr/local/lib/python3.10/dist-packages/langchain_core/_api/deprecation.py:189: LangChainDeprecationWarning: The class `OpenAIEmbeddings` was deprecated in LangChain 0.1.0 and will be removed in 0.2.0. Use langchain_openai.OpenAIEmbeddings instead.\n",
            "  warn_deprecated(\n"
          ]
        }
      ]
    },
    {
      "cell_type": "code",
      "source": [
        "astra_vector_store = Cassandra(embedding=embedding,\n",
        "                            table_name=\"qa_mini_demo\",\n",
        "                            session=None,\n",
        "                            keyspace=None,)"
      ],
      "metadata": {
        "id": "XlrhThyxOV8q"
      },
      "execution_count": 18,
      "outputs": []
    },
    {
      "cell_type": "code",
      "source": [
        "\n",
        "from langchain.text_splitter import RecursiveCharacterTextSplitter\n",
        "text_spliter = RecursiveCharacterTextSplitter(chunk_size=800,chunk_overlap=100,length_function=len,)\n",
        "texts= text_spliter.split_text(raw_texte)"
      ],
      "metadata": {
        "id": "Z1l4JjD4PJKi"
      },
      "execution_count": 20,
      "outputs": []
    },
    {
      "cell_type": "code",
      "source": [
        "print(f\" le nombre de chunks obtenus apres division du texte total est de :{len(texts)}\")\n",
        "print(\"\\n\")\n",
        "print(\"voila les 3 premiers chunks:\",\"\\n\")\n",
        "texts[:3]"
      ],
      "metadata": {
        "colab": {
          "base_uri": "https://localhost:8080/"
        },
        "id": "A097jMyHPpx-",
        "outputId": "8a641784-7869-434c-ae9b-ab4632c13fdb"
      },
      "execution_count": 21,
      "outputs": [
        {
          "output_type": "stream",
          "name": "stdout",
          "text": [
            " le nombre de chunks obtenus apres division du texte total est de :176\n",
            "\n",
            "\n",
            "voila les 3 premiers chunks: \n",
            "\n"
          ]
        },
        {
          "output_type": "execute_result",
          "data": {
            "text/plain": [
              "['Les aides \\n  financières \\n  en 2024 \\nÉdition janvier 2024Le service public pour mieux\\nrénover mon habitat\\n   Des aides différentes en fonction  \\nde vos revenus\\n  Un accompagnement personnalisé\\n  Les aides à la rénovation énergétique\\n 9 MaPrimeRénov’\\n 17 MaPrimeRénov’ Parcours accompagné\\n 20 MaPrimeRénov’ Copropriété\\n 22 Quelles règles en cas de cumul d’aides ?\\n 25 Le dispositif Loc’Avantages \\n 26  Les aides des fournisseurs d’énergie  \\n(dispositif des certificats d’économies d’énergie)\\n 31 La TVA à taux réduit\\n 33 Les aides des collectivités locales\\n 33 Le chèque énergie\\n 34 L’exonération de taxe foncière\\n 35 L’aide de votre caisse de retraite\\n 35 Le dispositif Denormandie\\n 37 Le déficit foncier\\n 38 L’éco-prêt à taux zéro\\n 42 Le prêt avance rénovation\\n 42 D’autres prêts à connaître',\n",
              " '38 L’éco-prêt à taux zéro\\n 42 Le prêt avance rénovation\\n 42 D’autres prêts à connaître\\n 43 Les critères techniques d’éligibilité des travaux\\n   MaPrimeAdapt’, l’aide pour l’adaptation à la \\nperte d’autonomie\\n   Les aides pour la lutte contre l’habitat indigne4\\n6\\n9\\n52\\n56Sommaire\\nCe document est édité par Agence nationale de l’habitat\\n8, avenue de l’Opéra | 75001 Paris\\nConception graphique : Agence 4août - Rédaction : Agence nationale de l’habitat - Illustrations : Claire Lanoë \\nLes aides financières en 2024\\n1Vous pouvez réaliser des travaux dans votre logement à \\nplusieurs étapes de votre vie pour répondre à vos besoins \\net vous permettre de :\\n• vivre dans un logement plus confortable et sécurisé ; \\n• réaliser des économies sur vos factures d’énergie ;',\n",
              " '• réaliser des économies sur vos factures d’énergie ;\\n• augmenter la valeur patrimoniale de votre bien.\\nEn réduisant vos consommations d’énergie, en installant \\ndes systèmes de chauffage et de production d’eau chaude \\nsanitaire qui fonctionnent avec des énergies renouvelables, \\nvous limitez aussi les émissions de gaz à effet de serre \\nresponsables du changement climatique.\\nEn adaptant votre logement à vos besoins, vous restez \\nautonome quel que soit votre âge ou votre handicap et \\nvous prévenez d’éventuelles chutes.\\nEn réhabilitant des logements existants, en réinvestissant \\ndes logements vacants, vous contribuez également à la \\nlutte contre l’artificialisation des sols.\\nPour financer vos travaux, vous pouvez bénéficier d’aides \\nfinancières de l’État, des collectivités territoriales, des']"
            ]
          },
          "metadata": {},
          "execution_count": 21
        }
      ]
    },
    {
      "cell_type": "code",
      "source": [
        "len(texts)"
      ],
      "metadata": {
        "colab": {
          "base_uri": "https://localhost:8080/"
        },
        "id": "tnwjByeRP4MR",
        "outputId": "476b3f92-40e2-4987-e393-df09dd08ee96"
      },
      "execution_count": 22,
      "outputs": [
        {
          "output_type": "execute_result",
          "data": {
            "text/plain": [
              "176"
            ]
          },
          "metadata": {},
          "execution_count": 22
        }
      ]
    },
    {
      "cell_type": "code",
      "source": [
        "NUM_HEADLINES = len(texts)\n",
        "\n",
        "\n",
        "print(\"\\nGenerating embeddings and storing headlines in AstraDB ... \", end=\"\")\n",
        "astra_vector_store.add_texts(texts[:NUM_HEADLINES])\n",
        "\n",
        "\n",
        "astra_vector_index = VectorStoreIndexWrapper(vectorstore=astra_vector_store)"
      ],
      "metadata": {
        "colab": {
          "base_uri": "https://localhost:8080/"
        },
        "id": "6PcCCAhjQY0U",
        "outputId": "580e34c6-5600-4df0-a0ec-c69dee2c4c8f"
      },
      "execution_count": 23,
      "outputs": [
        {
          "output_type": "stream",
          "name": "stdout",
          "text": [
            "\n",
            "Generating embeddings and storing headlines in AstraDB ... "
          ]
        }
      ]
    },
    {
      "cell_type": "code",
      "source": [
        "first_question = True\n",
        "while True:\n",
        "    if first_question:\n",
        "        query_text = input(\"\\nEnter your question (or type 'quit' to exit): \").strip()\n",
        "    else:\n",
        "        query_text = input(\"\\nWhat's your next question (or type 'quit' to exit): \").strip()\n",
        "\n",
        "    if query_text.lower() == \"quit\":\n",
        "        break\n",
        "\n",
        "    if query_text == \"\":\n",
        "        continue\n",
        "\n",
        "    first_question = False\n",
        "\n",
        "    print(\"\\nQUESTION: \\\"%s\\\"\" % query_text)\n",
        "    answer = astra_vector_index.query(query_text, llm=llm).strip()\n",
        "    print(\"ANSWER: \\\"%s\\\"\\n\" % answer)\n",
        "\n",
        "    print(\"FIRST DOCUMENTS BY RELEVANCE:\")\n",
        "    for doc, score in astra_vector_store.similarity_search_with_score(query_text, k=4):\n",
        "        print(\"    [%0.4f] \\\"%s ...\\\"\" % (score, doc.page_content[:100]))"
      ],
      "metadata": {
        "colab": {
          "base_uri": "https://localhost:8080/"
        },
        "id": "RelVQdHXS5d_",
        "outputId": "70bb6424-1e77-4b83-a164-61d21e6e3a14"
      },
      "execution_count": 24,
      "outputs": [
        {
          "output_type": "stream",
          "name": "stdout",
          "text": [
            "\n",
            "Enter your question (or type 'quit' to exit): quel montant avoir si j'installe une pompe a chaleur air/eau\n",
            "\n",
            "QUESTION: \"quel montant avoir si j'installe une pompe a chaleur air/eau\"\n"
          ]
        },
        {
          "output_type": "stream",
          "name": "stderr",
          "text": [
            "/usr/local/lib/python3.10/dist-packages/langchain_core/_api/deprecation.py:189: LangChainDeprecationWarning: The function `run` was deprecated in LangChain 0.1.0 and will be removed in 0.2.0. Use invoke instead.\n",
            "  warn_deprecated(\n",
            "/usr/local/lib/python3.10/dist-packages/langchain_core/_api/deprecation.py:189: LangChainDeprecationWarning: The function `__call__` was deprecated in LangChain 0.1.0 and will be removed in 0.2.0. Use invoke instead.\n",
            "  warn_deprecated(\n",
            "WARNING:cassandra.protocol:Server warning: Top-K queries can only be run with consistency level ONE / LOCAL_ONE / NODE_LOCAL. Consistency level LOCAL_QUORUM was requested. Downgrading the consistency level to LOCAL_ONE.\n",
            "/usr/local/lib/python3.10/dist-packages/langchain_core/_api/deprecation.py:189: LangChainDeprecationWarning: The function `run` was deprecated in LangChain 0.1.0 and will be removed in 0.2.0. Use invoke instead.\n",
            "  warn_deprecated(\n",
            "/usr/local/lib/python3.10/dist-packages/langchain_core/_api/deprecation.py:189: LangChainDeprecationWarning: The function `__call__` was deprecated in LangChain 0.1.0 and will be removed in 0.2.0. Use invoke instead.\n",
            "  warn_deprecated(\n",
            "/usr/local/lib/python3.10/dist-packages/langchain_core/_api/deprecation.py:189: LangChainDeprecationWarning: The function `__call__` was deprecated in LangChain 0.1.0 and will be removed in 0.2.0. Use invoke instead.\n",
            "  warn_deprecated(\n"
          ]
        },
        {
          "output_type": "stream",
          "name": "stdout",
          "text": [
            "ANSWER: \"Le montant de l'aide que vous pouvez recevoir pour l'installation d'une pompe à chaleur air/eau dépend de vos ressources. Si vous êtes dans la catégorie des ménages aux ressources très modestes, vous pouvez recevoir 5 000 €. Si vous êtes dans la catégorie des ménages aux ressources modestes, vous pouvez recevoir 4 000 €. Si vous êtes dans la catégorie des ménages aux ressources intermédiaires, vous pouvez recevoir 3 000 €. Les ménages aux ressources supérieures ne sont pas éligibles pour cette aide.\"\n",
            "\n",
            "FIRST DOCUMENTS BY RELEVANCE:\n"
          ]
        },
        {
          "output_type": "stream",
          "name": "stderr",
          "text": [
            "WARNING:cassandra.protocol:Server warning: Top-K queries can only be run with consistency level ONE / LOCAL_ONE / NODE_LOCAL. Consistency level LOCAL_QUORUM was requested. Downgrading the consistency level to LOCAL_ONE.\n"
          ]
        },
        {
          "output_type": "stream",
          "name": "stdout",
          "text": [
            "    [0.9391] \"Une pompe à chaleur \n",
            "air/eau4 000 € 2 500 €\n",
            "Une pompe à chaleur \n",
            "eau/eau ou sol/eau5 000 €\n",
            "Un systèm ...\"\n",
            "    [0.9388] \"Chauffe-eau thermodynamique 1 200 € 800 € 400 € non éligible\n",
            "Pompe à chaleur air/eau  \n",
            "(dont PAC hyb ...\"\n",
            "    [0.9388] \"ET MATÉRIAUX ÉLIGIBLESAIDE POUR LES MÉNAGES\n",
            "AUX \n",
            "RESSOURCES \n",
            "TRÈS \n",
            "MODESTESAUX \n",
            "RESSOURCES \n",
            "MODESTES ...\"\n",
            "    [0.9388] \"ET MATÉRIAUX ÉLIGIBLESAIDE POUR LES MÉNAGES\n",
            "AUX \n",
            "RESSOURCES \n",
            "TRÈS \n",
            "MODESTESAUX \n",
            "RESSOURCES \n",
            "MODESTES ...\"\n",
            "\n",
            "What's your next question (or type 'quit' to exit): quel condtion doivent respceter pour beneficer des aide si je fais un rénovation globale de ma maison\n",
            "\n",
            "QUESTION: \"quel condtion doivent respceter pour beneficer des aide si je fais un rénovation globale de ma maison\"\n"
          ]
        },
        {
          "output_type": "stream",
          "name": "stderr",
          "text": [
            "/usr/local/lib/python3.10/dist-packages/langchain_core/_api/deprecation.py:189: LangChainDeprecationWarning: The function `run` was deprecated in LangChain 0.1.0 and will be removed in 0.2.0. Use invoke instead.\n",
            "  warn_deprecated(\n",
            "/usr/local/lib/python3.10/dist-packages/langchain_core/_api/deprecation.py:189: LangChainDeprecationWarning: The function `__call__` was deprecated in LangChain 0.1.0 and will be removed in 0.2.0. Use invoke instead.\n",
            "  warn_deprecated(\n",
            "WARNING:cassandra.protocol:Server warning: Top-K queries can only be run with consistency level ONE / LOCAL_ONE / NODE_LOCAL. Consistency level LOCAL_QUORUM was requested. Downgrading the consistency level to LOCAL_ONE.\n",
            "/usr/local/lib/python3.10/dist-packages/langchain_core/_api/deprecation.py:189: LangChainDeprecationWarning: The function `run` was deprecated in LangChain 0.1.0 and will be removed in 0.2.0. Use invoke instead.\n",
            "  warn_deprecated(\n",
            "/usr/local/lib/python3.10/dist-packages/langchain_core/_api/deprecation.py:189: LangChainDeprecationWarning: The function `__call__` was deprecated in LangChain 0.1.0 and will be removed in 0.2.0. Use invoke instead.\n",
            "  warn_deprecated(\n",
            "/usr/local/lib/python3.10/dist-packages/langchain_core/_api/deprecation.py:189: LangChainDeprecationWarning: The function `__call__` was deprecated in LangChain 0.1.0 and will be removed in 0.2.0. Use invoke instead.\n",
            "  warn_deprecated(\n"
          ]
        },
        {
          "output_type": "stream",
          "name": "stdout",
          "text": [
            "ANSWER: \"Pour bénéficier des aides pour une rénovation globale de votre maison, vous devez respecter plusieurs conditions :\n",
            "\n",
            "1. Le projet doit inclure au moins deux gestes d’isolation (toiture, fenêtre/menuiserie, sols ou murs).\n",
            "2. Le projet ne doit pas prévoir d’installer un chauffage fonctionnant majoritairement aux énergies fossiles. Il est également interdit de garder un chauffage fonctionnant au fioul ou au charbon.\n",
            "3. Les équipements et matériaux utilisés doivent respecter des critères techniques spécifiques. Vous pouvez vous référer à la sous-partie « La rénovation globale avec MaPrimeRénov’ Parcours accompagné » dans le chapitre « Les critères techniques d’éligibilité des travaux » page 50 du document de référence.\n",
            "4. Vous devez faire appel à Mon Accompagnateur Rénov’ pour facil\"\n",
            "\n",
            "FIRST DOCUMENTS BY RELEVANCE:\n"
          ]
        },
        {
          "output_type": "stream",
          "name": "stderr",
          "text": [
            "WARNING:cassandra.protocol:Server warning: Top-K queries can only be run with consistency level ONE / LOCAL_ONE / NODE_LOCAL. Consistency level LOCAL_QUORUM was requested. Downgrading the consistency level to LOCAL_ONE.\n"
          ]
        },
        {
          "output_type": "stream",
          "name": "stdout",
          "text": [
            "    [0.9379] \"deux gestes d’isolation (toiture, fenêtre/\n",
            "menuiserie, sols ou murs) dans le programme \n",
            "de travaux e ...\"\n",
            "    [0.9368] \"recevez des allocations de la Caisse d’Alloca-\n",
            "tions familiales).Articles L312-7 du CCH et articles  ...\"\n",
            "    [0.9365] \"Ces travaux touchant le clos et le couvert, \n",
            "ils intègrent très fréquemment des travaux \n",
            "de rénovati ...\"\n",
            "    [0.9365] \"Ces travaux touchant le clos et le couvert, \n",
            "ils intègrent très fréquemment des travaux \n",
            "de rénovati ...\"\n",
            "\n",
            "What's your next question (or type 'quit' to exit): si j'installe une chadiere gaz pourrait avoir des aides\n",
            "\n",
            "QUESTION: \"si j'installe une chadiere gaz pourrait avoir des aides\"\n"
          ]
        },
        {
          "output_type": "stream",
          "name": "stderr",
          "text": [
            "/usr/local/lib/python3.10/dist-packages/langchain_core/_api/deprecation.py:189: LangChainDeprecationWarning: The function `run` was deprecated in LangChain 0.1.0 and will be removed in 0.2.0. Use invoke instead.\n",
            "  warn_deprecated(\n",
            "/usr/local/lib/python3.10/dist-packages/langchain_core/_api/deprecation.py:189: LangChainDeprecationWarning: The function `__call__` was deprecated in LangChain 0.1.0 and will be removed in 0.2.0. Use invoke instead.\n",
            "  warn_deprecated(\n",
            "WARNING:cassandra.protocol:Server warning: Top-K queries can only be run with consistency level ONE / LOCAL_ONE / NODE_LOCAL. Consistency level LOCAL_QUORUM was requested. Downgrading the consistency level to LOCAL_ONE.\n",
            "/usr/local/lib/python3.10/dist-packages/langchain_core/_api/deprecation.py:189: LangChainDeprecationWarning: The function `run` was deprecated in LangChain 0.1.0 and will be removed in 0.2.0. Use invoke instead.\n",
            "  warn_deprecated(\n",
            "/usr/local/lib/python3.10/dist-packages/langchain_core/_api/deprecation.py:189: LangChainDeprecationWarning: The function `__call__` was deprecated in LangChain 0.1.0 and will be removed in 0.2.0. Use invoke instead.\n",
            "  warn_deprecated(\n",
            "/usr/local/lib/python3.10/dist-packages/langchain_core/_api/deprecation.py:189: LangChainDeprecationWarning: The function `__call__` was deprecated in LangChain 0.1.0 and will be removed in 0.2.0. Use invoke instead.\n",
            "  warn_deprecated(\n"
          ]
        },
        {
          "output_type": "stream",
          "name": "stdout",
          "text": [
            "ANSWER: \"Oui, vous pouvez bénéficier d'aides pour l'installation d'une chaudière à gaz, en particulier si vous remplacez une chaudière au charbon, au fioul ou au gaz autre qu'à condensation. Ces aides sont bonifiées pour les ménages aux revenus modestes et très modestes. Les entreprises qui vendent de l'énergie (électricité, gaz ou GPL, chaleur, froid, fioul domestique, carburants pour véhicules) peuvent vous proposer des aides pour rénover votre logement. C'est une obligation encadrée par l'État.\"\n",
            "\n",
            "FIRST DOCUMENTS BY RELEVANCE:\n"
          ]
        },
        {
          "output_type": "stream",
          "name": "stderr",
          "text": [
            "WARNING:cassandra.protocol:Server warning: Top-K queries can only be run with consistency level ONE / LOCAL_ONE / NODE_LOCAL. Consistency level LOCAL_QUORUM was requested. Downgrading the consistency level to LOCAL_ONE.\n"
          ]
        },
        {
          "output_type": "stream",
          "name": "stdout",
          "text": [
            "    [0.9293] \"Une fois cette offre acceptée, vous pouvez \n",
            "signer le devis des travaux. Toutefois, si vous \n",
            "avez dé ...\"\n",
            "    [0.9292] \"-standardisees-deconomies-denergie\n",
            "Des primes « coup de pouce » pour certains travaux\n",
            "Tous les ménag ...\"\n",
            "    [0.9286] \"de combustion incompatible avec des chau -\n",
            "dières individuelles au gaz à condensation ;- l’achat et  ...\"\n",
            "    [0.9252] \"programmée de l’Anah. Si ce n’est pas le cas, \n",
            "les propriétaires peuvent percevoir une prime \n",
            "pouvan ...\"\n",
            "\n",
            "What's your next question (or type 'quit' to exit): c'est faux une chaudiere gaz ne permet pas d'avoir des aides\n",
            "\n",
            "QUESTION: \"c'est faux une chaudiere gaz ne permet pas d'avoir des aides\"\n"
          ]
        },
        {
          "output_type": "stream",
          "name": "stderr",
          "text": [
            "/usr/local/lib/python3.10/dist-packages/langchain_core/_api/deprecation.py:189: LangChainDeprecationWarning: The function `run` was deprecated in LangChain 0.1.0 and will be removed in 0.2.0. Use invoke instead.\n",
            "  warn_deprecated(\n",
            "/usr/local/lib/python3.10/dist-packages/langchain_core/_api/deprecation.py:189: LangChainDeprecationWarning: The function `__call__` was deprecated in LangChain 0.1.0 and will be removed in 0.2.0. Use invoke instead.\n",
            "  warn_deprecated(\n",
            "WARNING:cassandra.protocol:Server warning: Top-K queries can only be run with consistency level ONE / LOCAL_ONE / NODE_LOCAL. Consistency level LOCAL_QUORUM was requested. Downgrading the consistency level to LOCAL_ONE.\n",
            "/usr/local/lib/python3.10/dist-packages/langchain_core/_api/deprecation.py:189: LangChainDeprecationWarning: The function `run` was deprecated in LangChain 0.1.0 and will be removed in 0.2.0. Use invoke instead.\n",
            "  warn_deprecated(\n",
            "/usr/local/lib/python3.10/dist-packages/langchain_core/_api/deprecation.py:189: LangChainDeprecationWarning: The function `__call__` was deprecated in LangChain 0.1.0 and will be removed in 0.2.0. Use invoke instead.\n",
            "  warn_deprecated(\n",
            "/usr/local/lib/python3.10/dist-packages/langchain_core/_api/deprecation.py:189: LangChainDeprecationWarning: The function `__call__` was deprecated in LangChain 0.1.0 and will be removed in 0.2.0. Use invoke instead.\n",
            "  warn_deprecated(\n"
          ]
        },
        {
          "output_type": "stream",
          "name": "stdout",
          "text": [
            "ANSWER: \"Selon le contexte fourni, le remplacement d'une chaudière au charbon, au fioul ou au gaz (autres qu'à condensation) par un équipement utilisant des énergies renouvelables peut bénéficier d'aides financières dans le cadre du dispositif des certificats d'économies d'énergie. Cependant, si la chaudière à gaz est déjà une chaudière à condensation, elle ne serait pas éligible pour ces aides.\"\n",
            "\n",
            "FIRST DOCUMENTS BY RELEVANCE:\n"
          ]
        },
        {
          "output_type": "stream",
          "name": "stderr",
          "text": [
            "WARNING:cassandra.protocol:Server warning: Top-K queries can only be run with consistency level ONE / LOCAL_ONE / NODE_LOCAL. Consistency level LOCAL_QUORUM was requested. Downgrading the consistency level to LOCAL_ONE.\n"
          ]
        },
        {
          "name": "stdout",
          "output_type": "stream",
          "text": [
            "    [0.9205] \"de combustion incompatible avec des chau -\n",
            "dières individuelles au gaz à condensation ;- l’achat et  ...\"\n",
            "    [0.9200] \"-standardisees-deconomies-denergie\n",
            "Des primes « coup de pouce » pour certains travaux\n",
            "Tous les ménag ...\"\n",
            "    [0.9159] \"programmée de l’Anah. Si ce n’est pas le cas, \n",
            "les propriétaires peuvent percevoir une prime \n",
            "pouvan ...\"\n",
            "    [0.9153] \"Une fois cette offre acceptée, vous pouvez \n",
            "signer le devis des travaux. Toutefois, si vous \n",
            "avez dé ...\"\n",
            "\n",
            "What's your next question (or type 'quit' to exit): quit\n"
          ]
        }
      ]
    },
    {
      "cell_type": "code",
      "source": [],
      "metadata": {
        "id": "Mt8LGqf_TZF8"
      },
      "execution_count": null,
      "outputs": []
    }
  ]
}